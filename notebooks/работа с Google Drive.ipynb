{
  "nbformat": 4,
  "nbformat_minor": 0,
  "metadata": {
    "colab": {
      "provenance": []
    },
    "kernelspec": {
      "name": "python3",
      "display_name": "Python 3"
    },
    "language_info": {
      "name": "python"
    }
  },
  "cells": [
    {
      "cell_type": "code",
      "execution_count": 1,
      "metadata": {
        "colab": {
          "base_uri": "https://localhost:8080/"
        },
        "id": "TS3VC-UZtdc0",
        "outputId": "1c4e09f9-3fd6-4c49-9541-21e50bccd10b"
      },
      "outputs": [
        {
          "output_type": "stream",
          "name": "stdout",
          "text": [
            "Mounted at /content/drive\n",
            "'Colab Notebooks'\n",
            "'Sweezly | Набор на роль Phoenix.gform'\n",
            "'Копия Калькулятор опыта и распыления Зимний Пропуск 2025 by Logan Fletcher (1).gsheet'\n",
            "'Копия Калькулятор опыта и распыления Зимний Пропуск 2025 by Logan Fletcher.gsheet'\n",
            "'Новая форма.gform'\n",
            "Файл '/content/drive/MyDrive/my_text_file.txt' успешно создан и записан в Google Drive.\n",
            "Содержимое файла:\n",
            "Это первая строка.\n",
            "Это вторая строка.\n",
            "Это третья строка.\n",
            "\n"
          ]
        }
      ],
      "source": [
        "from google.colab import drive\n",
        "drive.mount('/content/drive')\n",
        "\n",
        "!ls /content/drive/MyDrive\n",
        "\n",
        "filename = \"/content/drive/MyDrive/my_text_file.txt\"  # Путь к файлу в Google Drive\n",
        "\n",
        "try:\n",
        "    with open(filename, \"w\", encoding=\"utf-8\") as file:\n",
        "        file.write(\"Это первая строка.\\n\")\n",
        "        file.write(\"Это вторая строка.\\n\")\n",
        "        file.write(\"Это третья строка.\\n\")\n",
        "    print(f\"Файл '{filename}' успешно создан и записан в Google Drive.\")\n",
        "except Exception as e:\n",
        "    print(f\"Произошла ошибка при записи файла: {e}\")\n",
        "\n",
        "\n",
        "filename = \"/content/drive/MyDrive/my_text_file.txt\"\n",
        "\n",
        "try:\n",
        "    with open(filename, \"r\", encoding=\"utf-8\") as file:\n",
        "        content = file.read()\n",
        "        print(\"Содержимое файла:\")\n",
        "        print(content)\n",
        "except FileNotFoundError:\n",
        "    print(f\"Файл '{filename}' не найден.\")\n",
        "except Exception as e:\n",
        "    print(f\"Произошла ошибка при чтении файла: {e}\")\n",
        "\n"
      ]
    },
    {
      "cell_type": "code",
      "source": [],
      "metadata": {
        "id": "_NiwRZoutfct"
      },
      "execution_count": null,
      "outputs": []
    }
  ]
}