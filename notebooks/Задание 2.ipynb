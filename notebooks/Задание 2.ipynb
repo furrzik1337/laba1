{
 "cells": [
  {
   "cell_type": "code",
   "execution_count": 2,
   "id": "cbbda5e1-79c7-4718-b315-b041b5797bee",
   "metadata": {},
   "outputs": [
    {
     "name": "stdin",
     "output_type": "stream",
     "text": [
      "Пожалуйста, введите ваше имя:  Вадим\n"
     ]
    },
    {
     "name": "stdout",
     "output_type": "stream",
     "text": [
      "Привет, Вадим! Добро пожаловать в JupyterLab / Google Colab!\n"
     ]
    }
   ],
   "source": [
    "name = input(\"Пожалуйста, введите ваше имя: \")\n",
    "print(\"Привет, {}! Добро пожаловать в JupyterLab / Google Colab!\".format(name))"
   ]
  },
  {
   "cell_type": "code",
   "execution_count": null,
   "id": "ca17305a-f63a-45a0-95e2-ee8a857d5924",
   "metadata": {},
   "outputs": [],
   "source": []
  }
 ],
 "metadata": {
  "kernelspec": {
   "display_name": "Python [conda env:base] *",
   "language": "python",
   "name": "conda-base-py"
  },
  "language_info": {
   "codemirror_mode": {
    "name": "ipython",
    "version": 3
   },
   "file_extension": ".py",
   "mimetype": "text/x-python",
   "name": "python",
   "nbconvert_exporter": "python",
   "pygments_lexer": "ipython3",
   "version": "3.12.7"
  }
 },
 "nbformat": 4,
 "nbformat_minor": 5
}
