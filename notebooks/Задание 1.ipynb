{
 "cells": [
  {
   "cell_type": "markdown",
   "id": "01e3db2b-103d-4c7f-9bd3-23987d6d20a9",
   "metadata": {},
   "source": [
    " \"Практическое задание №1\"\n",
    " \n",
    " **Жирный текст**\n",
    " \n",
    " *Текст с курсивом*\n",
    " \n",
    "Нумерованный список:\n",
    "1. Первый элемент\n",
    "2. Второй элемент\n",
    "3. Третий элемент\n",
    "\n",
    "Маркированный список\n",
    "- Элемент 1\n",
    "-  Элемент 2\n",
    "-  Элемент 3\n",
    "\n",
    "Формула: $e^x = \\sum_{n=0}^{\\infty} \\frac{x^n}{n!}$\n",
    "\n",
    "\n",
    "![Porshe 911](C:\\Users\\furrzik\\Desktop\\p.avif)"
   ]
  },
  {
   "cell_type": "code",
   "execution_count": 7,
   "id": "cf762978-e258-44da-ad6a-3aee47ffe60e",
   "metadata": {},
   "outputs": [
    {
     "ename": "SyntaxError",
     "evalue": "invalid syntax (3312470029.py, line 3)",
     "output_type": "error",
     "traceback": [
      "\u001b[1;36m  Cell \u001b[1;32mIn[7], line 3\u001b[1;36m\u001b[0m\n\u001b[1;33m    **Полужирный текст**, *курсив*, `код в строке`\u001b[0m\n\u001b[1;37m    ^\u001b[0m\n\u001b[1;31mSyntaxError\u001b[0m\u001b[1;31m:\u001b[0m invalid syntax\n"
     ]
    }
   ],
   "source": [
    "# Заголовок первого уровня\n",
    "## Заголовок второго уровня\n",
    "**Полужирный текст**, *курсив*, `код в строке`\n",
    "Список:\n",
    "- Пункт 1\n",
    "- Пункт 2\n",
    "- Пункт 3\n",
    "Формула: $y = mx + b$\n",
    "\n",
    "\n",
    "\n"
   ]
  },
  {
   "cell_type": "code",
   "execution_count": 9,
   "id": "75367d32-b638-4e99-bb9f-cbc8d2abcc7d",
   "metadata": {},
   "outputs": [
    {
     "ename": "SyntaxError",
     "evalue": "invalid syntax (4077111664.py, line 3)",
     "output_type": "error",
     "traceback": [
      "\u001b[1;36m  Cell \u001b[1;32mIn[9], line 3\u001b[1;36m\u001b[0m\n\u001b[1;33m    **Полужирный текст**, *курсив*, `код в строке`\u001b[0m\n\u001b[1;37m    ^\u001b[0m\n\u001b[1;31mSyntaxError\u001b[0m\u001b[1;31m:\u001b[0m invalid syntax\n"
     ]
    }
   ],
   "source": [
    "# Заголовок первого уровня\n",
    "## Заголовок второго уровня\n",
    "**Полужирный текст**, *курсив*, `код в строке`\n",
    "Список:\n",
    "- Пункт 1\n",
    "- Пункт 2\n",
    "- Пункт 3\n",
    "Формула: $y = mx + b$"
   ]
  },
  {
   "cell_type": "markdown",
   "id": "d4608617-5045-4bc5-930a-9d9ce795bfd8",
   "metadata": {},
   "source": [
    "# Заголовок первого уровня\n",
    "## Заголовок второго уровня\n",
    "**Полужирный текст**, *курсив*, `код в строке`\n",
    "Список:\n",
    "- Пункт 1\n",
    "- Пункт 2\n",
    "- Пункт 3\n",
    "Формула: $y = mx + b$\n",
    "\n"
   ]
  },
  {
   "cell_type": "code",
   "execution_count": 13,
   "id": "808f82f2-f487-4df0-863e-2a424c0899c4",
   "metadata": {},
   "outputs": [
    {
     "ename": "SyntaxError",
     "evalue": "invalid syntax (4085277845.py, line 3)",
     "output_type": "error",
     "traceback": [
      "\u001b[1;36m  Cell \u001b[1;32mIn[13], line 3\u001b[1;36m\u001b[0m\n\u001b[1;33m    **Полужирный текст**, *курсив*, `код в строке`\u001b[0m\n\u001b[1;37m    ^\u001b[0m\n\u001b[1;31mSyntaxError\u001b[0m\u001b[1;31m:\u001b[0m invalid syntax\n"
     ]
    }
   ],
   "source": [
    "# Заголовок первого уровня\n",
    "## Заголовок второго уровня\n",
    "**Полужирный текст**, *курсив*, `код в строке`\n",
    "Список:\n",
    "- Пункт 1\n",
    "- Пункт 2\n",
    "- Пункт 3\n",
    "- Формула: $y = mx + b$"
   ]
  },
  {
   "cell_type": "code",
   "execution_count": null,
   "id": "bab86777-8c10-417c-a02c-664d8001290b",
   "metadata": {},
   "outputs": [],
   "source": []
  }
 ],
 "metadata": {
  "kernelspec": {
   "display_name": "Python [conda env:base] *",
   "language": "python",
   "name": "conda-base-py"
  },
  "language_info": {
   "codemirror_mode": {
    "name": "ipython",
    "version": 3
   },
   "file_extension": ".py",
   "mimetype": "text/x-python",
   "name": "python",
   "nbconvert_exporter": "python",
   "pygments_lexer": "ipython3",
   "version": "3.12.7"
  }
 },
 "nbformat": 4,
 "nbformat_minor": 5
}
