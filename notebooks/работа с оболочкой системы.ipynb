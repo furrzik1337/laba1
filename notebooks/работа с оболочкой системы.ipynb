{
 "cells": [
  {
   "cell_type": "code",
   "execution_count": 2,
   "id": "a8446fc9-ef99-4a60-9bc8-553305a7b9c1",
   "metadata": {},
   "outputs": [
    {
     "name": "stderr",
     "output_type": "stream",
     "text": [
      "\"ls\" не является внутренней или внешней\n",
      "командой, исполняемой программой или пакетным файлом.\n"
     ]
    }
   ],
   "source": [
    "    !ls\n",
    "    \n"
   ]
  },
  {
   "cell_type": "code",
   "execution_count": 4,
   "id": "e54511e3-7d0f-49d1-82f7-91bc93208b9f",
   "metadata": {},
   "outputs": [
    {
     "name": "stderr",
     "output_type": "stream",
     "text": [
      "\"ls\" не является внутренней или внешней\n",
      "командой, исполняемой программой или пакетным файлом.\n"
     ]
    }
   ],
   "source": [
    "    !ls"
   ]
  },
  {
   "cell_type": "code",
   "execution_count": 6,
   "id": "328ea53f-7438-4895-b01f-a15bc290fb5f",
   "metadata": {},
   "outputs": [
    {
     "name": "stderr",
     "output_type": "stream",
     "text": [
      "\"which\" не является внутренней или внешней\n",
      "командой, исполняемой программой или пакетным файлом.\n"
     ]
    }
   ],
   "source": [
    "    !which python\n"
   ]
  },
  {
   "cell_type": "code",
   "execution_count": 9,
   "id": "0e42e8f6-0fac-4ac9-b9d2-456b06f96d72",
   "metadata": {},
   "outputs": [
    {
     "name": "stderr",
     "output_type": "stream",
     "text": [
      "\"which\" не является внутренней или внешней\n",
      "командой, исполняемой программой или пакетным файлом.\n"
     ]
    }
   ],
   "source": [
    "    !which python\n",
    "    "
   ]
  },
  {
   "cell_type": "code",
   "execution_count": 11,
   "id": "c50aef4b-6d4e-4b6b-93dc-49fee5a177e9",
   "metadata": {},
   "outputs": [
    {
     "name": "stderr",
     "output_type": "stream",
     "text": [
      "\"which\" не является внутренней или внешней\n",
      "командой, исполняемой программой или пакетным файлом.\n"
     ]
    }
   ],
   "source": [
    "!which python"
   ]
  },
  {
   "cell_type": "code",
   "execution_count": 13,
   "id": "e4b648be-3bd0-4f2c-9038-d9379cfee9a1",
   "metadata": {},
   "outputs": [
    {
     "name": "stderr",
     "output_type": "stream",
     "text": [
      "\"ls\" не является внутренней или внешней\n",
      "командой, исполняемой программой или пакетным файлом.\n"
     ]
    }
   ],
   "source": [
    "    !mkdir test_folder\n",
    "    !ls\n",
    "    \n"
   ]
  },
  {
   "cell_type": "code",
   "execution_count": 15,
   "id": "cd27fd32-2625-49ba-9680-7d12a2516ee6",
   "metadata": {},
   "outputs": [
    {
     "name": "stderr",
     "output_type": "stream",
     "text": [
      "Подпапка или файл test_folder уже существует.\n"
     ]
    },
    {
     "name": "stdout",
     "output_type": "stream",
     "text": [
      " Том в устройстве C не имеет метки.\n",
      " Серийный номер тома: 7813-5486\n",
      "\n",
      " Содержимое папки C:\\Users\\furrzik\\laba1\\notebooks\n",
      "\n",
      "17.02.2025  23:53    <DIR>          .\n",
      "16.02.2025  21:26    <DIR>          ..\n",
      "17.02.2025  23:50    <DIR>          .ipynb_checkpoints\n",
      "17.02.2025  23:46                90 script.py\n",
      "17.02.2025  23:53    <DIR>          test_folder\n",
      "16.02.2025  23:19             4 709 Задание 1.ipynb\n",
      "17.02.2025  23:49             3 537 Задание 2 с jupyterlab.ipynb\n",
      "16.02.2025  21:17             1 336 Задание 2.ipynb\n",
      "16.02.2025  21:23             2 998 Задачка.ipynb\n",
      "17.02.2025  23:49            23 204 Магические команды.ipynb\n",
      "16.02.2025  21:17            44 633 Пример 1.ipynb\n",
      "16.02.2025  15:15             1 087 Пример 2.ipynb\n",
      "17.02.2025  23:52             1 998 работа с оболочкой системы.ipynb\n",
      "               9 файлов         83 592 байт\n",
      "               4 папок  389 698 469 888 байт свободно\n"
     ]
    }
   ],
   "source": [
    "!mkdir test_folder\n",
    "!dir"
   ]
  },
  {
   "cell_type": "code",
   "execution_count": 17,
   "id": "6171a67e-ffbe-432c-b093-f448724b5ae3",
   "metadata": {},
   "outputs": [
    {
     "name": "stdout",
     "output_type": "stream",
     "text": [
      "C:\\Users\\furrzik\\anaconda3\\python.exe\n",
      "C:\\Users\\furrzik\\AppData\\Local\\Programs\\Python\\Python313\\python.exe\n",
      "C:\\Users\\furrzik\\AppData\\Local\\Microsoft\\WindowsApps\\python.exe\n"
     ]
    }
   ],
   "source": [
    "!where python"
   ]
  },
  {
   "cell_type": "code",
   "execution_count": 19,
   "id": "01da4890-7765-4be0-b28c-cab53f9fca18",
   "metadata": {},
   "outputs": [
    {
     "name": "stderr",
     "output_type": "stream",
     "text": [
      "Подпапка или файл test_folder уже существует.\n"
     ]
    },
    {
     "name": "stdout",
     "output_type": "stream",
     "text": [
      " Том в устройстве C не имеет метки.\n",
      " Серийный номер тома: 7813-5486\n",
      "\n",
      " Содержимое папки C:\\Users\\furrzik\\laba1\\notebooks\n",
      "\n",
      "17.02.2025  23:54    <DIR>          .\n",
      "16.02.2025  21:26    <DIR>          ..\n",
      "17.02.2025  23:50    <DIR>          .ipynb_checkpoints\n",
      "17.02.2025  23:46                90 script.py\n",
      "17.02.2025  23:53    <DIR>          test_folder\n",
      "16.02.2025  23:19             4 709 Задание 1.ipynb\n",
      "17.02.2025  23:49             3 537 Задание 2 с jupyterlab.ipynb\n",
      "16.02.2025  21:17             1 336 Задание 2.ipynb\n",
      "16.02.2025  21:23             2 998 Задачка.ipynb\n",
      "17.02.2025  23:49            23 204 Магические команды.ipynb\n",
      "16.02.2025  21:17            44 633 Пример 1.ipynb\n",
      "16.02.2025  15:15             1 087 Пример 2.ipynb\n",
      "17.02.2025  23:54             5 298 работа с оболочкой системы.ipynb\n",
      "               9 файлов         86 892 байт\n",
      "               4 папок  389 698 027 520 байт свободно\n",
      "C:\\Users\\furrzik\\anaconda3\\python.exe\n",
      "C:\\Users\\furrzik\\AppData\\Local\\Programs\\Python\\Python313\\python.exe\n",
      "C:\\Users\\furrzik\\AppData\\Local\\Microsoft\\WindowsApps\\python.exe\n"
     ]
    }
   ],
   "source": [
    "!mkdir test_folder\n",
    "!dir\n",
    "!where python\n",
    "!rmdir test_folder"
   ]
  },
  {
   "cell_type": "code",
   "execution_count": 21,
   "id": "f819b063-e530-4ba0-a066-915c7f3504b0",
   "metadata": {},
   "outputs": [
    {
     "name": "stdout",
     "output_type": "stream",
     "text": [
      " Том в устройстве C не имеет метки.\n",
      " Серийный номер тома: 7813-5486\n",
      "\n",
      " Содержимое папки C:\\Users\\furrzik\\laba1\\notebooks\n",
      "\n",
      "17.02.2025  23:55    <DIR>          .\n",
      "16.02.2025  21:26    <DIR>          ..\n",
      "17.02.2025  23:50    <DIR>          .ipynb_checkpoints\n",
      "17.02.2025  23:46                90 script.py\n",
      "17.02.2025  23:55    <DIR>          test_folder\n",
      "16.02.2025  23:19             4 709 Задание 1.ipynb\n",
      "17.02.2025  23:49             3 537 Задание 2 с jupyterlab.ipynb\n",
      "16.02.2025  21:17             1 336 Задание 2.ipynb\n",
      "16.02.2025  21:23             2 998 Задачка.ipynb\n",
      "17.02.2025  23:49            23 204 Магические команды.ipynb\n",
      "16.02.2025  21:17            44 633 Пример 1.ipynb\n",
      "16.02.2025  15:15             1 087 Пример 2.ipynb\n",
      "17.02.2025  23:54             5 298 работа с оболочкой системы.ipynb\n",
      "               9 файлов         86 892 байт\n",
      "               4 папок  389 698 056 192 байт свободно\n",
      "C:\\Users\\furrzik\\anaconda3\\python.exe\n",
      "C:\\Users\\furrzik\\AppData\\Local\\Programs\\Python\\Python313\\python.exe\n",
      "C:\\Users\\furrzik\\AppData\\Local\\Microsoft\\WindowsApps\\python.exe\n"
     ]
    }
   ],
   "source": [
    "!mkdir test_folder\n",
    "!dir\n",
    "!where python\n",
    "!rmdir test_folder"
   ]
  },
  {
   "cell_type": "code",
   "execution_count": null,
   "id": "459fab6c-cda8-4400-9ca9-5cda762bf17d",
   "metadata": {},
   "outputs": [],
   "source": []
  }
 ],
 "metadata": {
  "kernelspec": {
   "display_name": "Python [conda env:base] *",
   "language": "python",
   "name": "conda-base-py"
  },
  "language_info": {
   "codemirror_mode": {
    "name": "ipython",
    "version": 3
   },
   "file_extension": ".py",
   "mimetype": "text/x-python",
   "name": "python",
   "nbconvert_exporter": "python",
   "pygments_lexer": "ipython3",
   "version": "3.12.7"
  }
 },
 "nbformat": 4,
 "nbformat_minor": 5
}
