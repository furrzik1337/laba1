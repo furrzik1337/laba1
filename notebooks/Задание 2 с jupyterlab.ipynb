{
 "cells": [
  {
   "cell_type": "code",
   "execution_count": 2,
   "id": "97c0785e-2a60-4119-b228-7d38d6875ab5",
   "metadata": {},
   "outputs": [
    {
     "name": "stdout",
     "output_type": "stream",
     "text": [
      "Файл 'example.txt' успешно создан и записан.\n",
      "\n",
      "Содержимое файла:\n",
      "Первая строка текста.\n",
      "Вторая строка текста.\n",
      "Третья строка текста.\n",
      "\n",
      "\n",
      "Файл 'example.txt' существует.\n",
      "Файл 'example.txt' успешно удален.\n"
     ]
    }
   ],
   "source": [
    "import os\n",
    "\n",
    "# 1. Создайте и сохраните текстовый файл с помощью open()\n",
    "filename = \"example.txt\"  # Имя файла\n",
    "\n",
    "try:\n",
    "    with open(filename, \"w\", encoding=\"utf-8\") as file: # Используем with для автоматического закрытия файла\n",
    "        # 2. Запишите в него несколько строк текста\n",
    "        file.write(\"Первая строка текста.\\n\")  # \\n - символ новой строки\n",
    "        file.write(\"Вторая строка текста.\\n\")\n",
    "        file.write(\"Третья строка текста.\\n\")\n",
    "    print(f\"Файл '{filename}' успешно создан и записан.\")\n",
    "\n",
    "    # 3. Закройте файл (сделано автоматически с помощью 'with') и затем откройте его снова, считав содержимое и выведя на экран\n",
    "    with open(filename, \"r\", encoding=\"utf-8\") as file:\n",
    "        content = file.read() # Считываем все содержимое файла в строку\n",
    "        print(\"\\nСодержимое файла:\")\n",
    "        print(content)\n",
    "\n",
    "    # 4. Проверьте, существует ли файл, используя os.path.exists()\n",
    "    if os.path.exists(filename):\n",
    "        print(f\"\\nФайл '{filename}' существует.\")\n",
    "    else:\n",
    "        print(f\"\\nФайл '{filename}' не существует.\") # Эта ветка не должна быть выполнена, если все прошло успешно\n",
    "\n",
    "    # 5. Удалите файл с помощью модуля os\n",
    "    os.remove(filename)\n",
    "    print(f\"Файл '{filename}' успешно удален.\")\n",
    "\n",
    "except FileNotFoundError:\n",
    "    print(f\"Ошибка: Файл '{filename}' не найден.\")\n",
    "except Exception as e:\n",
    "    print(f\"Произошла ошибка: {e}\")\n"
   ]
  },
  {
   "cell_type": "code",
   "execution_count": null,
   "id": "21b96d65-9557-4264-9b8a-52bb9523451f",
   "metadata": {},
   "outputs": [],
   "source": []
  }
 ],
 "metadata": {
  "kernelspec": {
   "display_name": "Python [conda env:base] *",
   "language": "python",
   "name": "conda-base-py"
  },
  "language_info": {
   "codemirror_mode": {
    "name": "ipython",
    "version": 3
   },
   "file_extension": ".py",
   "mimetype": "text/x-python",
   "name": "python",
   "nbconvert_exporter": "python",
   "pygments_lexer": "ipython3",
   "version": "3.12.7"
  }
 },
 "nbformat": 4,
 "nbformat_minor": 5
}
