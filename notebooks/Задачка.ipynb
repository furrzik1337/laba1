{
 "cells": [
  {
   "cell_type": "code",
   "execution_count": 2,
   "id": "9660430f-ad0b-4e1a-a05e-ce7e3dd480c4",
   "metadata": {},
   "outputs": [
    {
     "ename": "SyntaxError",
     "evalue": "invalid character '×' (U+00D7) (2277736647.py, line 6)",
     "output_type": "error",
     "traceback": [
      "\u001b[1;36m  Cell \u001b[1;32mIn[2], line 6\u001b[1;36m\u001b[0m\n\u001b[1;33m    площадь = длина × ширина\u001b[0m\n\u001b[1;37m                    ^\u001b[0m\n\u001b[1;31mSyntaxError\u001b[0m\u001b[1;31m:\u001b[0m invalid character '×' (U+00D7)\n"
     ]
    }
   ],
   "source": [
    "# Входные данные:\n",
    "длина = 5\n",
    "ширина = 3\n",
    "\n",
    "# Вычисление площади:\n",
    "площадь = длина × ширина\n",
    "\n",
    "# Вывод результата:\n",
    "print(\"Площадь прямоугольника:\", площадь)"
   ]
  },
  {
   "cell_type": "code",
   "execution_count": 4,
   "id": "79b4d085-8978-4910-9705-a091557085a9",
   "metadata": {},
   "outputs": [
    {
     "ename": "SyntaxError",
     "evalue": "invalid character '×' (U+00D7) (1105040601.py, line 6)",
     "output_type": "error",
     "traceback": [
      "\u001b[1;36m  Cell \u001b[1;32mIn[4], line 6\u001b[1;36m\u001b[0m\n\u001b[1;33m    s = a × b\u001b[0m\n\u001b[1;37m          ^\u001b[0m\n\u001b[1;31mSyntaxError\u001b[0m\u001b[1;31m:\u001b[0m invalid character '×' (U+00D7)\n"
     ]
    }
   ],
   "source": [
    "# Входные данные:\n",
    "a = 5\n",
    "b = 3\n",
    "\n",
    "# Вычисление площади:\n",
    "s = a × b\n",
    "\n",
    "# Вывод результата:\n",
    "print(\"Площадь прямоугольника:\", s)"
   ]
  },
  {
   "cell_type": "code",
   "execution_count": 6,
   "id": "5777aa60-58b0-4db4-8ca0-6a1ce53b636c",
   "metadata": {},
   "outputs": [
    {
     "name": "stdout",
     "output_type": "stream",
     "text": [
      "Площадь прямоугольника: 15\n"
     ]
    }
   ],
   "source": [
    "# Входные данные:\n",
    "a = 5\n",
    "b = 3\n",
    "\n",
    "# Вычисление площади:\n",
    "s = a * b\n",
    "\n",
    "# Вывод результата:\n",
    "print(\"Площадь прямоугольника:\", s)"
   ]
  },
  {
   "cell_type": "code",
   "execution_count": null,
   "id": "8ff3e495-0964-422a-9f83-423bef1622a6",
   "metadata": {},
   "outputs": [],
   "source": []
  }
 ],
 "metadata": {
  "kernelspec": {
   "display_name": "Python [conda env:base] *",
   "language": "python",
   "name": "conda-base-py"
  },
  "language_info": {
   "codemirror_mode": {
    "name": "ipython",
    "version": 3
   },
   "file_extension": ".py",
   "mimetype": "text/x-python",
   "name": "python",
   "nbconvert_exporter": "python",
   "pygments_lexer": "ipython3",
   "version": "3.12.7"
  }
 },
 "nbformat": 4,
 "nbformat_minor": 5
}
